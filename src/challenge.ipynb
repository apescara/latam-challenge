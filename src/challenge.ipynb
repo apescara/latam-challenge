{
 "cells": [
  {
   "cell_type": "markdown",
   "metadata": {},
   "source": [
    "En este archivo puedes escribir lo que estimes conveniente. Te recomendamos detallar tu solución y todas las suposiciones que estás considerando. Aquí puedes ejecutar las funciones que definiste en los otros archivos de la carpeta src, medir el tiempo, memoria, etc."
   ]
  },
  {
   "cell_type": "code",
   "execution_count": 1,
   "metadata": {},
   "outputs": [],
   "source": [
    "file_path = \"farmers-protest-tweets-2021-2-4.json\""
   ]
  },
  {
   "cell_type": "code",
   "execution_count": 2,
   "metadata": {},
   "outputs": [
    {
     "data": {
      "text/plain": [
       "[(Date(2021, 2, 12), 'RanbirS00614606'),\n",
       " (Date(2021, 2, 13), 'MaanDee08215437'),\n",
       " (Date(2021, 2, 17), 'RaaJVinderkaur'),\n",
       " (Date(2021, 2, 16), 'jot__b'),\n",
       " (Date(2021, 2, 14), 'rebelpacifist'),\n",
       " (Date(2021, 2, 18), 'neetuanjle_nitu'),\n",
       " (Date(2021, 2, 15), 'jot__b'),\n",
       " (Date(2021, 2, 20), 'MangalJ23056160'),\n",
       " (Date(2021, 2, 23), 'Surrypuria'),\n",
       " (Date(2021, 2, 19), 'Preetm91')]"
      ]
     },
     "execution_count": 2,
     "metadata": {},
     "output_type": "execute_result"
    }
   ],
   "source": [
    "from q1_time import  q1_time\n",
    "\n",
    "q1_time(file_path=file_path)"
   ]
  },
  {
   "cell_type": "markdown",
   "metadata": {},
   "source": [
    "Mem pregunta 1"
   ]
  },
  {
   "cell_type": "code",
   "execution_count": 2,
   "metadata": {},
   "outputs": [
    {
     "name": "stderr",
     "output_type": "stream",
     "text": [
      "your 131072x1 screen size is bogus. expect trouble\n",
      "24/10/13 10:27:12 WARN Utils: Your hostname, pescara-pc resolves to a loopback address: 127.0.1.1; using 10.255.255.254 instead (on interface lo)\n",
      "24/10/13 10:27:12 WARN Utils: Set SPARK_LOCAL_IP if you need to bind to another address\n",
      "Setting default log level to \"WARN\".\n",
      "To adjust logging level use sc.setLogLevel(newLevel). For SparkR, use setLogLevel(newLevel).\n",
      "24/10/13 10:27:12 WARN NativeCodeLoader: Unable to load native-hadoop library for your platform... using builtin-java classes where applicable\n",
      "                                                                                \r"
     ]
    },
    {
     "name": "stdout",
     "output_type": "stream",
     "text": [
      "+----------+---------------+-----+--------------+----------+\n",
      "| date_part|       username|count|tweets_by_date|rank_users|\n",
      "+----------+---------------+-----+--------------+----------+\n",
      "|2021-02-12|RanbirS00614606|  176|         12347|         1|\n",
      "|2021-02-13|MaanDee08215437|  178|         11296|         1|\n",
      "|2021-02-17| RaaJVinderkaur|  185|         11087|         1|\n",
      "|2021-02-16|         jot__b|  133|         10443|         1|\n",
      "|2021-02-14|  rebelpacifist|  119|         10249|         1|\n",
      "|2021-02-18|neetuanjle_nitu|  195|          9625|         1|\n",
      "|2021-02-15|         jot__b|  134|          9197|         1|\n",
      "|2021-02-20|MangalJ23056160|  108|          8502|         1|\n",
      "|2021-02-23|     Surrypuria|  135|          8417|         1|\n",
      "|2021-02-19|       Preetm91|  267|          8204|         1|\n",
      "|2021-02-21|     Surrypuria|  161|          7532|         1|\n",
      "|2021-02-22| preetysaini321|  110|          7071|         1|\n",
      "|2021-02-24| preetysaini321|  107|          3437|         1|\n",
      "+----------+---------------+-----+--------------+----------+\n",
      "\n"
     ]
    }
   ],
   "source": [
    "from q1_memory import  q1_memory\n",
    "\n",
    "q1_memory(file_path=file_path)"
   ]
  },
  {
   "cell_type": "code",
   "execution_count": null,
   "metadata": {},
   "outputs": [],
   "source": []
  }
 ],
 "metadata": {
  "kernelspec": {
   "display_name": "Python 3",
   "language": "python",
   "name": "python3"
  },
  "language_info": {
   "codemirror_mode": {
    "name": "ipython",
    "version": 3
   },
   "file_extension": ".py",
   "mimetype": "text/x-python",
   "name": "python",
   "nbconvert_exporter": "python",
   "pygments_lexer": "ipython3",
   "version": "3.11.10"
  },
  "orig_nbformat": 4
 },
 "nbformat": 4,
 "nbformat_minor": 2
}
